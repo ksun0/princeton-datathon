{
 "cells": [
  {
   "cell_type": "markdown",
   "metadata": {},
   "source": [
    "* Don’t just plot the data: We saw many teams who just did exploratory data analysis, plotting trends and covariance matrices. This doesn’t add any value to the dataset- what can you predict from the data; what new hypotheses can you explore?\n",
    "* Tell a story: The winning teams pitched topics of interest to policymakers, businesses, or consumers. How can your insights be turned into real actions?\n",
    "* Test many hypotheses: Our team tested and threw out ~4 hypotheses before choosing one to focus on.\n",
    "* Begin With the End in Sight: Because we didn’t have the chance to pitch our idea in-person, our final report had to speak for itself. Make it professional, clear, and concise."
   ]
  },
  {
   "cell_type": "code",
   "execution_count": 1,
   "metadata": {
    "collapsed": true
   },
   "outputs": [],
   "source": [
    "%matplotlib inline \n",
    "\n",
    "import numpy as np\n",
    "import pandas as pd\n",
    "import matplotlib.pyplot as plt\n",
    "import seaborn as sns\n",
    "import datetime as dt\n",
    "import seaborn as sns\n",
    "import warnings\n",
    "warnings.filterwarnings('ignore')"
   ]
  },
  {
   "cell_type": "code",
   "execution_count": null,
   "metadata": {},
   "outputs": [],
   "source": [
    "df = pd.read_csv('./Materials/311_service_requests_complete.csv', encoding=\"ISO-8859-1\")\n",
    "\n",
    "print('Shape of data (rows, columns):', df.shape, '\\n')\n",
    "print('Column Names: ', df.columns) # flagged means whether or not the article is incomplete or inaccurate\n",
    "\n",
    "\n",
    "df.head()"
   ]
  },
  {
   "cell_type": "code",
   "execution_count": null,
   "metadata": {},
   "outputs": [],
   "source": [
    "# df = df.loc[df['Agency'].isin(['DSNY','DOHMH', 'DEP', 'DOB'])]\n",
    "\n",
    "# define in which colums to look for missing values: we want the case to be closed\n",
    "df = df.replace(np.nan, 0) \n",
    "df = df.loc[df['closed_date'] != 0]\n",
    "df = df.loc[df['due_date'] != 0]\n",
    "df = df.loc[df['resolution_date'] != 0]\n",
    "\n",
    "\n",
    "df['created_date']= pd.to_datetime(df['created_date'])\n",
    "df['closed_date']= pd.to_datetime(df['closed_date'])\n",
    "df['due_date']= pd.to_datetime(df['due_date'])\n",
    "df['resolution_date']= pd.to_datetime(df['resolution_date'])\n",
    "\n",
    "\n",
    "# news_df = news_df.sort_index(ascending=True)\n",
    "# news_df = news_df[['articleUrl', 'categories', 'flagged', 'source', 'sourceUrl', 'title', 'article', \n",
    "#              'num_words_not_in_dictionary', 'stopwords2words', 'readability_score', 'sentiment_polarity']]\n",
    "\n",
    "df = df.reset_index(drop=True) \n",
    "df"
   ]
  },
  {
   "cell_type": "code",
   "execution_count": null,
   "metadata": {},
   "outputs": [],
   "source": [
    "df[\"response_time\"] = df[\"resolution_date\"] - df[\"created_date\"]\n",
    "# remove response time under 30 minutes\n",
    "# df = df.loc[df['Closed Date'] != 0]\n",
    "df['response_time'] = df['response_time'].dt.total_seconds() / 86400\n",
    "# df = df.loc[df['response_time'] > 30] # \n",
    "\n",
    "# df[\"scheduled_response_period\"] = df[\"Due Date\"] - df[\"Created Date\"]\n",
    "# df['scheduled_response_period'] = df['scheduled_response_period'].dt.total_seconds() / 60\n",
    "\n",
    "df[\"response_lateness\"] = df[\"due_date\"] - df[\"resolution_date\"]\n",
    "df['response_lateness'] = df['response_lateness'].dt.total_seconds() / 86400\n",
    "\n",
    "# df1 = df.loc[df['response_time'] == 'Standing Water']\n",
    "# df1\n",
    "\n",
    "# df1\n",
    "df"
   ]
  },
  {
   "cell_type": "code",
   "execution_count": null,
   "metadata": {},
   "outputs": [],
   "source": [
    "df0 = df.groupby(\"borough\").mean()\n",
    "df0 = df0.reset_index()\n",
    "df0"
   ]
  },
  {
   "cell_type": "code",
   "execution_count": null,
   "metadata": {},
   "outputs": [],
   "source": [
    "df1 = df0.drop(df0.index[5])\n",
    "df1"
   ]
  },
  {
   "cell_type": "code",
   "execution_count": 2,
   "metadata": {
    "collapsed": true
   },
   "outputs": [],
   "source": [
    "df1 = pd.DataFrame(columns=[\"borough\", \"time\", \"type\"], data=[[\"BRONX\", 15.815731, 'Time'],\n",
    "                                                             [\"BRONX\", -0.930169, 'Lateness'],\n",
    "                                                             [\"BROOKLYN\", 19.900090\t, 'Time'],\n",
    "                                                             [\"BROOKLYN\", -20.996806, 'Lateness'],\n",
    "                                                             [\"MANHATTAN\", 22.766938, 'Time'],\n",
    "                                                             [\"MANHATTAN\", 4.679331, 'Lateness'],\n",
    "                                                             [\"QUEENS\", 23.086355, 'Time'],\n",
    "                                                             [\"QUEENS\", -52.411406, 'Lateness'],\n",
    "                                                             [\"STATEN ISLAND\", 23.344368, 'Time'],\n",
    "                                                             [\"STATEN ISLAND\", -41.310241, 'Lateness']])"
   ]
  },
  {
   "cell_type": "code",
   "execution_count": null,
   "metadata": {
    "collapsed": true
   },
   "outputs": [],
   "source": [
    "# response lateness\n",
    "# std deviation\n",
    "# set up seaborn for plot consistency\n",
    "def sns_reset():\n",
    "    sns.set(font_scale = 1.2)\n",
    "#     sns.set_style('white')\n",
    "#     sns.set_style('ticks')\n",
    "    sns.despine()\n",
    "    # sns.set_context('poster')\n",
    "    \n",
    "    # colors and axes\n",
    "#     global color_set\n",
    "#     color_set = 'Blues_r' # adjust this colorset\n",
    "#     sns.set_palette('Blues_r')\n",
    "    f, ax = plt.subplots()\n",
    "    f.set_size_inches(7, 5)\n",
    "    return f, ax"
   ]
  },
  {
   "cell_type": "code",
   "execution_count": null,
   "metadata": {
    "collapsed": true
   },
   "outputs": [],
   "source": [
    "from matplotlib import rcParams\n",
    "rcParams.update({'figure.autolayout': True})"
   ]
  },
  {
   "cell_type": "code",
   "execution_count": 14,
   "metadata": {},
   "outputs": [
    {
     "data": {
      "text/plain": [
       "<matplotlib.text.Text at 0x117e4a320>"
      ]
     },
     "execution_count": 14,
     "metadata": {},
     "output_type": "execute_result"
    },
    {
     "data": {
      "image/png": "[encoded data removed]",
      "text/plain": [
       "<matplotlib.figure.Figure at 0x117d797b8>"
      ]
     },
     "metadata": {},
     "output_type": "display_data"
    }
   ],
   "source": [
    "\n",
    "ax = sns.factorplot(x='time', y='borough', hue='type', data=df1, kind='bar')\n",
    "ax.set(ylabel='Borough', xlabel='Mean Time (Days)')\n",
    "plt.subplots_adjust(top=0.9)\n",
    "ax.fig.suptitle('Efficiency of Government Response Across Boroughs (Response Lateness)') # can also get the figure from plt.gcf(\n",
    "\n"
   ]
  },
  {
   "cell_type": "code",
   "execution_count": null,
   "metadata": {},
   "outputs": [],
   "source": [
    "# plot airline graphs\n",
    "sns.set()\n",
    "f, ax = sns_reset()\n",
    "f.set_size_inches(10, 6)\n",
    "\n",
    "# set fonts\n",
    "font = {'fontname':'Arial'}\n",
    "\n",
    "sns.barplot(y = df1.borough, \\\n",
    "            x = df1.response_lateness, \\\n",
    "           palette = 'Blues_r')\n",
    "plt.title('Efficiency of Government Response Across Boroughs (Response Lateness)', **font)\n",
    "plt.xlabel('Mean Time (days)', **font)\n",
    "plt.ylabel('Borough Name', **font)\n",
    "\n",
    "plt.savefig('./visualizations/airline-flight-distribution.png', dpi = 600)\n",
    "plt.show()\n",
    "\n",
    "\n",
    "\n",
    "\n"
   ]
  },
  {
   "cell_type": "code",
   "execution_count": null,
   "metadata": {},
   "outputs": [],
   "source": [
    "sns.set()\n",
    "f, ax = sns_reset()\n",
    "f.set_size_inches(10, 6)\n",
    "\n",
    "# set fonts\n",
    "font = {'fontname':'Arial'}\n",
    "\n",
    "sns.barplot(y = df1.borough, \\\n",
    "            x = df1.response_time, \\\n",
    "           palette = 'Blues_r')\n",
    "plt.title('Efficiency of Government Response Across Boroughs (Response Time)', **font)\n",
    "plt.xlabel('Mean Time (days)', **font)\n",
    "plt.ylabel('Borough Name', **font)\n",
    "plt.savefig('./visualizations/airline-flight-distribution1.png', dpi = 600)\n",
    "plt.show()\n",
    "\n"
   ]
  },
  {
   "cell_type": "markdown",
   "metadata": {},
   "source": [
    "# enviornmental data"
   ]
  },
  {
   "cell_type": "code",
   "execution_count": null,
   "metadata": {},
   "outputs": [],
   "source": [
    "environment_df = pd.read_csv('Materials/environmental_radiation.csv')\n",
    "environment_df.head()"
   ]
  },
  {
   "cell_type": "code",
   "execution_count": null,
   "metadata": {},
   "outputs": [],
   "source": [
    "environment_df['sample_location'].unique()"
   ]
  },
  {
   "cell_type": "code",
   "execution_count": null,
   "metadata": {},
   "outputs": [],
   "source": [
    "import shapefile as shp\n",
    "import matplotlib.pyplot as plt\n",
    "\n",
    "sf = shp.Reader(\"./geo_export_ed304d49-3aaf-4cbd-9c75-28380a34d7c6.shp\")\n",
    "\n",
    "plt.figure()\n",
    "for shape in sf.shapeRecords():\n",
    "    x = [i[0] for i in shape.shape.points[:]]\n",
    "    y = [i[1] for i in shape.shape.points[:]]\n",
    "    plt.plot(x,y)\n",
    "plt.show()"
   ]
  },
  {
   "cell_type": "code",
   "execution_count": null,
   "metadata": {},
   "outputs": [],
   "source": [
    "import copy\n",
    "from matplotlib import pyplot as plt\n",
    "from matplotlib.colors import LogNorm\n",
    "\n",
    "nyc_geo_df = pd.read_csv('./Materials/geographic.csv')\n",
    "all_coordinates = nyc_geo_df.values.flatten('F')\n",
    "\n",
    "all_coordinates = np.reshape(all_coordinates, (-1, 2))\n",
    "    \n",
    "\n",
    "def density_map(latitudes, longitudes, center, bins=1000, radius=0.1):  \n",
    "    cmap = copy.copy(plt.cm.jet)\n",
    "    cmap.set_bad((0,0,0))  # Fill background with black\n",
    "\n",
    "    # Center the map around the provided center coordinates\n",
    "    histogram_range = [\n",
    "        [center[1] - radius, center[1] + radius],\n",
    "        [center[0] - radius, center[0] + radius]\n",
    "    ]\n",
    "    \n",
    "    fig = plt.figure(figsize=(5,5))\n",
    "    plt.hist2d(longitudes, latitudes, bins=bins, norm=LogNorm(),\n",
    "               cmap=cmap, range=histogram_range)\n",
    "\n",
    "    # Remove all axes and annotations to keep the map clean and simple\n",
    "    plt.grid('off')\n",
    "    plt.axis('off')\n",
    "    fig.axes[0].get_xaxis().set_visible(False)\n",
    "    fig.axes[0].get_yaxis().set_visible(False)\n",
    "    plt.tight_layout()\n",
    "    plt.show()\n",
    "    \n",
    "\n",
    "# Coordinates of Porto's city center\n",
    "porto = [40.7128, -74.0060]\n",
    "# Separate the latitude and longitude values from our list of coordinates\n",
    "latitudes = all_coordinates[:,0]\n",
    "print(latitudes)\n",
    "longitudes = all_coordinates[:,1]\n",
    "# Render the map\n",
    "density_map(latitudes, longitudes, center=porto)\n",
    "\n"
   ]
  },
  {
   "cell_type": "code",
   "execution_count": null,
   "metadata": {
    "collapsed": true
   },
   "outputs": [],
   "source": [
    "heatmap of governmental delay"
   ]
  }
 ],
 "metadata": {
  "kernelspec": {
   "display_name": "Python 3",
   "language": "python",
   "name": "python3"
  },
  "language_info": {
   "codemirror_mode": {
    "name": "ipython",
    "version": 3
   },
   "file_extension": ".py",
   "mimetype": "text/x-python",
   "name": "python",
   "nbconvert_exporter": "python",
   "pygments_lexer": "ipython3",
   "version": "3.6.5"
  }
 },
 "nbformat": 4,
 "nbformat_minor": 2
}
